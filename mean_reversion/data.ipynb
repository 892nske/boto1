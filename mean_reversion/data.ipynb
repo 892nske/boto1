{
 "cells": [
  {
   "cell_type": "code",
   "execution_count": 1,
   "id": "10b045ea-5807-410f-bb4d-fb4740892bac",
   "metadata": {},
   "outputs": [],
   "source": [
    "import ccxt\n",
    "import pandas as pd\n",
    "from datetime import datetime, timedelta"
   ]
  },
  {
   "cell_type": "code",
   "execution_count": 2,
   "id": "ef065271-8f88-4cb3-8d0a-6a4be6f66b13",
   "metadata": {},
   "outputs": [],
   "source": [
    "# bybitのAPIに接続\n",
    "exchange = ccxt.bybit()"
   ]
  },
  {
   "cell_type": "code",
   "execution_count": 3,
   "id": "d6562c16-377a-4cb1-9605-b43527a21cb8",
   "metadata": {},
   "outputs": [],
   "source": [
    "# 開始日時と終了日時を指定（ここでは例として2022年1月1日から2022年12月31日までを指定）\n",
    "start_date = datetime(2023, 10, 1)\n",
    "end_date = datetime(2024, 9, 30)\n",
    "start_timestamp = int(start_date.timestamp() * 1000)\n",
    "end_timestamp = int(end_date.timestamp() * 1000)\n",
    "\n",
    "data = []"
   ]
  },
  {
   "cell_type": "code",
   "execution_count": 4,
   "id": "6cd1c0a5-e585-4320-83a9-bd1e3d0ebb21",
   "metadata": {},
   "outputs": [
    {
     "name": "stdout",
     "output_type": "stream",
     "text": [
      "            Timestamp     Open     High      Low    Close  Volume\n",
      "0 2023-09-30 15:00:00  26983.4  26986.6  26983.4  26986.6   6.216\n",
      "1 2023-09-30 15:01:00  26986.6  26991.6  26986.6  26991.6  26.141\n",
      "2 2023-09-30 15:02:00  26991.6  26992.0  26990.3  26992.0  30.235\n",
      "3 2023-09-30 15:03:00  26992.0  26992.0  26983.4  26983.4  15.045\n",
      "4 2023-09-30 15:04:00  26983.4  26983.4  26971.6  26975.3  74.219\n"
     ]
    }
   ],
   "source": [
    "while start_timestamp < end_timestamp:\n",
    "    try:\n",
    "        new_data = exchange.fetch_ohlcv('BTCUSDT', timeframe='1m', since=start_timestamp, limit=1000)\n",
    "        if new_data:\n",
    "            start_timestamp = new_data[-1][0] + 1\n",
    "            data += new_data\n",
    "        else:\n",
    "            break\n",
    "    except Exception as e:\n",
    "        print(f\"An error occurred: {e}\")\n",
    "        break\n",
    "\n",
    "# データをDataFrameに変換\n",
    "df = pd.DataFrame(data, columns=['Timestamp', 'Open', 'High', 'Low', 'Close', 'Volume'])\n",
    "df['Timestamp'] = pd.to_datetime(df['Timestamp'], unit='ms')\n",
    "\n",
    "print(df.head())"
   ]
  },
  {
   "cell_type": "code",
   "execution_count": 5,
   "id": "39534880-d96a-461f-8477-cfd02e2d68df",
   "metadata": {},
   "outputs": [],
   "source": [
    "df.to_csv('../data/bybit_btcusdt_20231001-20240930.csv')"
   ]
  },
  {
   "cell_type": "code",
   "execution_count": null,
   "id": "0d8449b6-1c2d-4542-b419-86160f7ad052",
   "metadata": {},
   "outputs": [],
   "source": []
  }
 ],
 "metadata": {
  "kernelspec": {
   "display_name": "Python 3 (ipykernel)",
   "language": "python",
   "name": "python3"
  },
  "language_info": {
   "codemirror_mode": {
    "name": "ipython",
    "version": 3
   },
   "file_extension": ".py",
   "mimetype": "text/x-python",
   "name": "python",
   "nbconvert_exporter": "python",
   "pygments_lexer": "ipython3",
   "version": "3.8.13"
  }
 },
 "nbformat": 4,
 "nbformat_minor": 5
}
