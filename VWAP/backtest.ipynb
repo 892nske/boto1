{
 "cells": [
  {
   "cell_type": "code",
   "execution_count": 1,
   "id": "e78bd001-a464-4a85-b072-3959af1e60c3",
   "metadata": {},
   "outputs": [],
   "source": [
    "import pandas as pd\n",
    "import numpy as np\n"
   ]
  },
  {
   "cell_type": "code",
   "execution_count": 20,
   "id": "d1666182-4d89-4760-89bf-ee0889163d5e",
   "metadata": {},
   "outputs": [],
   "source": [
    "\n",
    "# CSVファイルの読み込み\n",
    "df = pd.read_csv('../data/bybit_btcusdt_20240901-20240930.csv',index_col=0)\n",
    "\n",
    "# 'Timestamp'列を日時型に変換し、インデックスに設定\n",
    "df['Timestamp'] = pd.to_datetime(df['Timestamp'])\n",
    "df.set_index('Timestamp', inplace=True)\n",
    "\n",
    "df_1m = df\n",
    "\n",
    "# カラムを設定\n",
    "# df_1m = df.rename(columns={'Open','High','Low','Close','Volume'})"
   ]
  },
  {
   "cell_type": "code",
   "execution_count": 21,
   "id": "c61a158f-37fe-4d3b-b65a-3aa8560a6f11",
   "metadata": {},
   "outputs": [],
   "source": [
    "# df_1m: 1分足データフレーム(OHLCV)\n",
    "# カラム: ['Open','High','Low','Close','Volume']\n",
    "# DateTimeIndexが正しく設定されていることが前提\n",
    "\n",
    "# 1. 15分足データの生成\n",
    "df_15m = df_1m.resample('15T').agg({\n",
    "    'Open': 'first',\n",
    "    'High': 'max',\n",
    "    'Low': 'min',\n",
    "    'Close': 'last',\n",
    "    'Volume': 'sum'\n",
    "}).dropna()"
   ]
  },
  {
   "cell_type": "code",
   "execution_count": 22,
   "id": "de801394-5fb1-4091-99af-494ab7d9320a",
   "metadata": {},
   "outputs": [],
   "source": [
    "# VWAP計算用関数\n",
    "def vwap(high, low, close, volume):\n",
    "    tp = (high + low + close) / 3.0\n",
    "    cumulative_vol = volume.cumsum()\n",
    "    cumulative_tp_vol = (tp * volume).cumsum()\n",
    "    return cumulative_tp_vol / cumulative_vol"
   ]
  },
  {
   "cell_type": "code",
   "execution_count": 23,
   "id": "97399cd5-291c-4b36-835c-e98ac3c355f2",
   "metadata": {},
   "outputs": [],
   "source": [
    "# 2. VWAPと標準偏差バンドの計算（15分足）\n",
    "df_15m['VWAP'] = vwap(df_15m['High'], df_15m['Low'], df_15m['Close'], df_15m['Volume'])\n",
    "df_15m['TP'] = (df_15m['High'] + df_15m['Low'] + df_15m['Close']) / 3.0\n",
    "df_15m['Diff'] = df_15m['TP'] - df_15m['VWAP']\n",
    "window = 20\n",
    "df_15m['Std'] = df_15m['Diff'].rolling(window).std()\n",
    "sigma_factor = 1.5\n",
    "df_15m['Upper_band'] = df_15m['VWAP'] + sigma_factor * df_15m['Std']\n",
    "df_15m['Lower_band'] = df_15m['VWAP'] - sigma_factor * df_15m['Std']"
   ]
  },
  {
   "cell_type": "code",
   "execution_count": 24,
   "id": "57941261-8bed-4c79-9f7d-81937e42f60a",
   "metadata": {},
   "outputs": [],
   "source": [
    "# 上位足情報を1分足に結合\n",
    "df_1m = df_1m.merge(df_15m[['VWAP','Upper_band','Lower_band']], left_index=True, right_index=True, how='left')\n",
    "df_1m[['VWAP','Upper_band','Lower_band']] = df_1m[['VWAP','Upper_band','Lower_band']].ffill()"
   ]
  },
  {
   "cell_type": "code",
   "execution_count": 25,
   "id": "b81cb873-a09f-4d80-b5c3-b2b03b3e08c3",
   "metadata": {},
   "outputs": [],
   "source": [
    "# 出来高急増判定\n",
    "lookback_vol = 20\n",
    "df_1m['Vol_ma'] = df_1m['Volume'].rolling(lookback_vol).mean()\n",
    "volume_factor = 1.5\n",
    "df_1m['Volume_spike'] = df_1m['Volume'] > df_1m['Vol_ma'] * volume_factor"
   ]
  },
  {
   "cell_type": "code",
   "execution_count": 26,
   "id": "d21bbe8e-b094-45d5-a7a1-600996958720",
   "metadata": {},
   "outputs": [],
   "source": [
    "# ローソク足パターン判定（エンゴルフィング例）\n",
    "df_1m['Prev_Close'] = df_1m['Close'].shift(1)\n",
    "df_1m['Prev_Open'] = df_1m['Open'].shift(1)"
   ]
  },
  {
   "cell_type": "code",
   "execution_count": 27,
   "id": "6f593b69-101d-44a9-90d1-86b640de9763",
   "metadata": {},
   "outputs": [],
   "source": [
    "def is_bullish_engulfing(o, c, po, pc):\n",
    "    # 各条件をビット演算子(&)で連結することで、Series同士の条件比較が可能となる\n",
    "    return (c > o) & (c > pc) & (o < po)\n",
    "\n",
    "def is_bearish_engulfing(o, c, po, pc):\n",
    "    return (c < o) & (c < pc) & (o > po)\n"
   ]
  },
  {
   "cell_type": "code",
   "execution_count": 28,
   "id": "1d8cd776-0e28-465e-a5e9-7cb0c63424fb",
   "metadata": {},
   "outputs": [],
   "source": [
    "df_1m['Bullish_eng'] = is_bullish_engulfing(df_1m['Open'], df_1m['Close'], df_1m['Prev_Open'], df_1m['Prev_Close'])\n",
    "df_1m['Bearish_eng'] = is_bearish_engulfing(df_1m['Open'], df_1m['Close'], df_1m['Prev_Open'], df_1m['Prev_Close'])"
   ]
  },
  {
   "cell_type": "code",
   "execution_count": 29,
   "id": "52a557a2-1f02-4aa8-8c02-fe9ba0492b49",
   "metadata": {},
   "outputs": [
    {
     "name": "stdout",
     "output_type": "stream",
     "text": [
      "Number of Trades: 14\n",
      "Win Rate: 0.8571428571428571\n",
      "Avg Win: 373.225000000001\n",
      "Avg Loss: -599.5999999999985\n",
      "Total PnL: 3279.5000000000146\n",
      "  Position          Entry_time           Exit_time  Entry_price  Exit_price  \\\n",
      "0     LONG 2024-08-31 20:07:00 2024-08-31 20:53:00      58787.3     58945.5   \n",
      "1     LONG 2024-09-01 01:44:00 2024-09-01 08:00:00      58858.5     58482.4   \n",
      "2     LONG 2024-09-01 09:05:00 2024-09-01 15:47:00      58154.6     58237.9   \n",
      "3    SHORT 2024-09-01 18:28:00 2024-09-01 21:20:00      58545.1     58201.6   \n",
      "4     LONG 2024-09-01 22:23:00 2024-09-02 08:20:00      57724.1     58063.7   \n",
      "\n",
      "     PnL  \n",
      "0  158.2  \n",
      "1 -376.1  \n",
      "2   83.3  \n",
      "3  343.5  \n",
      "4  339.6  \n"
     ]
    }
   ],
   "source": [
    "# シグナル生成\n",
    "df_1m['Long_signal'] = (df_1m['Close'] < df_1m['Lower_band']) & df_1m['Volume_spike'] & df_1m['Bullish_eng']\n",
    "df_1m['Short_signal'] = (df_1m['Close'] > df_1m['Upper_band']) & df_1m['Volume_spike'] & df_1m['Bearish_eng']\n",
    "\n",
    "# エグジット条件\n",
    "# ロング時: VWAP到達で利確\n",
    "# ショート時: VWAP到達で利確\n",
    "df_1m['Long_exit_cond'] = df_1m['Close'] >= df_1m['VWAP']\n",
    "df_1m['Short_exit_cond'] = df_1m['Close'] <= df_1m['VWAP']\n",
    "\n",
    "# 3. バックテストの実施\n",
    "positions = []\n",
    "current_position = None\n",
    "\n",
    "for i, row in df_1m.iterrows():\n",
    "    if current_position is None:\n",
    "        # エントリー判定\n",
    "        if row['Long_signal']:\n",
    "            current_position = ('LONG', i, row['Close'])\n",
    "        elif row['Short_signal']:\n",
    "            current_position = ('SHORT', i, row['Close'])\n",
    "    else:\n",
    "        pos_type, entry_time, entry_price = current_position\n",
    "        if pos_type == 'LONG':\n",
    "            # ロングエグジット条件\n",
    "            if row['Long_exit_cond']:\n",
    "                positions.append((pos_type, entry_time, i, entry_price, row['Close']))\n",
    "                current_position = None\n",
    "        else:\n",
    "            # ショートエグジット条件\n",
    "            if row['Short_exit_cond']:\n",
    "                positions.append((pos_type, entry_time, i, entry_price, row['Close']))\n",
    "                current_position = None\n",
    "\n",
    "# ポジション履歴DataFrame化\n",
    "df_positions = pd.DataFrame(positions, columns=['Position','Entry_time','Exit_time','Entry_price','Exit_price'])\n",
    "\n",
    "# 4. パフォーマンス評価\n",
    "df_positions['PnL'] = np.where(df_positions['Position']=='LONG', \n",
    "                               df_positions['Exit_price'] - df_positions['Entry_price'], \n",
    "                               df_positions['Entry_price'] - df_positions['Exit_price'])\n",
    "\n",
    "winning_trades = df_positions[df_positions['PnL'] > 0]\n",
    "losing_trades = df_positions[df_positions['PnL'] <= 0]\n",
    "\n",
    "win_rate = len(winning_trades) / len(df_positions) if len(df_positions) > 0 else 0\n",
    "avg_win = winning_trades['PnL'].mean() if len(winning_trades) > 0 else 0\n",
    "avg_loss = losing_trades['PnL'].mean() if len(losing_trades) > 0 else 0\n",
    "total_pnl = df_positions['PnL'].sum()\n",
    "\n",
    "print(\"Number of Trades:\", len(df_positions))\n",
    "print(\"Win Rate:\", win_rate)\n",
    "print(\"Avg Win:\", avg_win)\n",
    "print(\"Avg Loss:\", avg_loss)\n",
    "print(\"Total PnL:\", total_pnl)\n",
    "\n",
    "# 必要に応じて詳細出力\n",
    "print(df_positions.head())"
   ]
  },
  {
   "cell_type": "code",
   "execution_count": null,
   "id": "1972f6d0-0c51-4aac-9fda-49fe8fd9998e",
   "metadata": {},
   "outputs": [],
   "source": []
  }
 ],
 "metadata": {
  "kernelspec": {
   "display_name": "Python 3 (ipykernel)",
   "language": "python",
   "name": "python3"
  },
  "language_info": {
   "codemirror_mode": {
    "name": "ipython",
    "version": 3
   },
   "file_extension": ".py",
   "mimetype": "text/x-python",
   "name": "python",
   "nbconvert_exporter": "python",
   "pygments_lexer": "ipython3",
   "version": "3.8.12"
  }
 },
 "nbformat": 4,
 "nbformat_minor": 5
}
